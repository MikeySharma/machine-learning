{
 "cells": [
  {
   "cell_type": "markdown",
   "metadata": {},
   "source": [
    "# Assignment "
   ]
  },
  {
   "cell_type": "markdown",
   "metadata": {
    "vscode": {
     "languageId": "plaintext"
    }
   },
   "source": [
    "<li> Try training the MNIST data on different classification models with GridSearchCV"
   ]
  },
  {
   "cell_type": "code",
   "execution_count": null,
   "metadata": {
    "vscode": {
     "languageId": "plaintext"
    }
   },
   "outputs": [],
   "source": [
    "# Hints\n",
    "\n",
    "# models\n",
    "svc=SVC() # optional Takes time\n",
    "dtc=DecisionTreeClassifier()\n",
    "rfc=RandomForestClassifier()\n",
    "\n",
    "models={'svc':svc,'dtc':dtc,rtc':rtc}\n",
    "\n",
    "# params\n",
    "params={    \n",
    "    'svc': {'C':[0.1,1,10], \n",
    "            'kernel':['rbf','linear']},\n",
    "    \n",
    "    'dtc':{\n",
    "        'criterion':['gini','entropy'],\n",
    "        'max_depth':[2,4,6,8,10,12]\n",
    "    },\n",
    "    \n",
    "    'rtc':{\n",
    "        'criterion':['gini','entropy'],\n",
    "        'max_depth':[2,4,6,8,10,12]\n",
    "    }\n",
    "}\n",
    "\n",
    "# train\n",
    "\n",
    "model_accuracy={}\n",
    "score=0.0001\n",
    "for model in models.keys():\n",
    "    mod = GridSearchCV(\n",
    "    models[model],\n",
    "    params[model],\n",
    "    verbose=0, #Progress bar showing\n",
    "    cv=5, #cross validation\n",
    "    n_jobs=-1, #cores to assign\n",
    ")\n",
    "    gridsearch_result=mod.fit(train_x,train_y)\n",
    "    \n",
    "    #selects best model\n",
    "    if(score < float(gridsearch_result.score(test_x,test_y))):\n",
    "            score=gridsearch_result.score(test_x,test_y)\n",
    "            best_model=gridsearch_result\n",
    "            \n",
    "    predict=mod.predict(test_x)\n",
    "    print(f\"{model} : \",gridsearch_result.best_estimator_)\n",
    "    if model not in model_accuracy.keys():\n",
    "        model_accuracy.update({model:accuracy_score(test_y,predict)})\n",
    "\n",
    "# Check model_accuracy\n",
    "\n",
    "print(model_accuracy)\n",
    "\n",
    "print(best_model.best_estimator_)\n",
    "best_model.best_score_\n"
   ]
  },
  {
   "cell_type": "code",
   "execution_count": null,
   "metadata": {
    "vscode": {
     "languageId": "plaintext"
    }
   },
   "outputs": [],
   "source": []
  }
 ],
 "metadata": {
  "language_info": {
   "name": "python"
  }
 },
 "nbformat": 4,
 "nbformat_minor": 2
}
