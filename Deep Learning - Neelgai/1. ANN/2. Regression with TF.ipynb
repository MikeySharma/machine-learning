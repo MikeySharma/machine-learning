{
 "cells": [
  {
   "cell_type": "markdown",
   "metadata": {},
   "source": [
    "# Import Libraries"
   ]
  },
  {
   "cell_type": "code",
   "execution_count": 1,
   "metadata": {},
   "outputs": [],
   "source": [
    "import pandas as pd\n",
    "import numpy as np\n",
    "\n",
    "import tensorflow as tf\n",
    "import matplotlib.pyplot as plt\n",
    "\n",
    "from sklearn.model_selection import train_test_split\n",
    "from sklearn.preprocessing import LabelEncoder, StandardScaler\n",
    "from tensorflow.keras.models import Sequential\n",
    "from tensorflow.keras.layers import Dense"
   ]
  },
  {
   "cell_type": "markdown",
   "metadata": {},
   "source": [
    "# Import DataFrame"
   ]
  },
  {
   "cell_type": "code",
   "execution_count": 2,
   "metadata": {},
   "outputs": [],
   "source": [
    "df = pd.read_csv('data/Salary_multiple.csv')"
   ]
  },
  {
   "cell_type": "markdown",
   "metadata": {},
   "source": [
    "# Preprocessing"
   ]
  },
  {
   "cell_type": "code",
   "execution_count": 3,
   "metadata": {},
   "outputs": [
    {
     "data": {
      "text/html": [
       "<div>\n",
       "<style scoped>\n",
       "    .dataframe tbody tr th:only-of-type {\n",
       "        vertical-align: middle;\n",
       "    }\n",
       "\n",
       "    .dataframe tbody tr th {\n",
       "        vertical-align: top;\n",
       "    }\n",
       "\n",
       "    .dataframe thead th {\n",
       "        text-align: right;\n",
       "    }\n",
       "</style>\n",
       "<table border=\"1\" class=\"dataframe\">\n",
       "  <thead>\n",
       "    <tr style=\"text-align: right;\">\n",
       "      <th></th>\n",
       "      <th>YearsExperience</th>\n",
       "      <th>Field</th>\n",
       "      <th>Salary</th>\n",
       "    </tr>\n",
       "  </thead>\n",
       "  <tbody>\n",
       "    <tr>\n",
       "      <th>0</th>\n",
       "      <td>1.1</td>\n",
       "      <td>Technical</td>\n",
       "      <td>39343.0</td>\n",
       "    </tr>\n",
       "    <tr>\n",
       "      <th>1</th>\n",
       "      <td>1.3</td>\n",
       "      <td>Non-Technical</td>\n",
       "      <td>26205.0</td>\n",
       "    </tr>\n",
       "    <tr>\n",
       "      <th>2</th>\n",
       "      <td>1.5</td>\n",
       "      <td>Technical</td>\n",
       "      <td>37731.0</td>\n",
       "    </tr>\n",
       "    <tr>\n",
       "      <th>3</th>\n",
       "      <td>2.0</td>\n",
       "      <td>Non-Technical</td>\n",
       "      <td>28525.0</td>\n",
       "    </tr>\n",
       "    <tr>\n",
       "      <th>4</th>\n",
       "      <td>2.2</td>\n",
       "      <td>Technical</td>\n",
       "      <td>39891.0</td>\n",
       "    </tr>\n",
       "  </tbody>\n",
       "</table>\n",
       "</div>"
      ],
      "text/plain": [
       "   YearsExperience          Field   Salary\n",
       "0              1.1      Technical  39343.0\n",
       "1              1.3  Non-Technical  26205.0\n",
       "2              1.5      Technical  37731.0\n",
       "3              2.0  Non-Technical  28525.0\n",
       "4              2.2      Technical  39891.0"
      ]
     },
     "execution_count": 3,
     "metadata": {},
     "output_type": "execute_result"
    }
   ],
   "source": [
    "df.head()"
   ]
  },
  {
   "cell_type": "code",
   "execution_count": 4,
   "metadata": {},
   "outputs": [],
   "source": [
    "encoder = LabelEncoder()\n",
    "df['Field'] = encoder.fit_transform(df['Field'])"
   ]
  },
  {
   "cell_type": "code",
   "execution_count": 5,
   "metadata": {},
   "outputs": [
    {
     "data": {
      "text/html": [
       "<div>\n",
       "<style scoped>\n",
       "    .dataframe tbody tr th:only-of-type {\n",
       "        vertical-align: middle;\n",
       "    }\n",
       "\n",
       "    .dataframe tbody tr th {\n",
       "        vertical-align: top;\n",
       "    }\n",
       "\n",
       "    .dataframe thead th {\n",
       "        text-align: right;\n",
       "    }\n",
       "</style>\n",
       "<table border=\"1\" class=\"dataframe\">\n",
       "  <thead>\n",
       "    <tr style=\"text-align: right;\">\n",
       "      <th></th>\n",
       "      <th>YearsExperience</th>\n",
       "      <th>Field</th>\n",
       "      <th>Salary</th>\n",
       "    </tr>\n",
       "  </thead>\n",
       "  <tbody>\n",
       "    <tr>\n",
       "      <th>0</th>\n",
       "      <td>1.1</td>\n",
       "      <td>1</td>\n",
       "      <td>39343.0</td>\n",
       "    </tr>\n",
       "    <tr>\n",
       "      <th>1</th>\n",
       "      <td>1.3</td>\n",
       "      <td>0</td>\n",
       "      <td>26205.0</td>\n",
       "    </tr>\n",
       "    <tr>\n",
       "      <th>2</th>\n",
       "      <td>1.5</td>\n",
       "      <td>1</td>\n",
       "      <td>37731.0</td>\n",
       "    </tr>\n",
       "    <tr>\n",
       "      <th>3</th>\n",
       "      <td>2.0</td>\n",
       "      <td>0</td>\n",
       "      <td>28525.0</td>\n",
       "    </tr>\n",
       "    <tr>\n",
       "      <th>4</th>\n",
       "      <td>2.2</td>\n",
       "      <td>1</td>\n",
       "      <td>39891.0</td>\n",
       "    </tr>\n",
       "  </tbody>\n",
       "</table>\n",
       "</div>"
      ],
      "text/plain": [
       "   YearsExperience  Field   Salary\n",
       "0              1.1      1  39343.0\n",
       "1              1.3      0  26205.0\n",
       "2              1.5      1  37731.0\n",
       "3              2.0      0  28525.0\n",
       "4              2.2      1  39891.0"
      ]
     },
     "execution_count": 5,
     "metadata": {},
     "output_type": "execute_result"
    }
   ],
   "source": [
    "df.head()"
   ]
  },
  {
   "cell_type": "code",
   "execution_count": 6,
   "metadata": {},
   "outputs": [],
   "source": [
    "scaler = StandardScaler()\n",
    "df[['YearsExperience', 'Salary']] = scaler.fit_transform(df[['YearsExperience', 'Salary']])"
   ]
  },
  {
   "cell_type": "markdown",
   "metadata": {},
   "source": [
    "# Split to X and Y"
   ]
  },
  {
   "cell_type": "code",
   "execution_count": 7,
   "metadata": {},
   "outputs": [],
   "source": [
    "X = df[['YearsExperience']].values\n",
    "y = df['Salary']"
   ]
  },
  {
   "cell_type": "code",
   "execution_count": 8,
   "metadata": {},
   "outputs": [],
   "source": [
    "X=X.reshape(-1,1)"
   ]
  },
  {
   "cell_type": "markdown",
   "metadata": {},
   "source": [
    "# Split"
   ]
  },
  {
   "cell_type": "code",
   "execution_count": 9,
   "metadata": {},
   "outputs": [],
   "source": [
    "X_train, X_test, y_train, y_test = train_test_split(X, y, test_size=0.2, random_state=29)"
   ]
  },
  {
   "cell_type": "markdown",
   "metadata": {},
   "source": [
    "# Build Model"
   ]
  },
  {
   "cell_type": "code",
   "execution_count": 10,
   "metadata": {},
   "outputs": [],
   "source": [
    "# Build the neural network model\n",
    "model = Sequential([\n",
    "    Dense(4, activation='linear', input_shape=(X_train.shape[1],)),\n",
    "    Dense(1, activation='linear'),\n",
    "    # Dense(1, activation='linear')  # No activation function for output layer (regression problem)\n",
    "])"
   ]
  },
  {
   "cell_type": "code",
   "execution_count": 11,
   "metadata": {},
   "outputs": [
    {
     "name": "stdout",
     "output_type": "stream",
     "text": [
      "Model: \"sequential\"\n",
      "_________________________________________________________________\n",
      " Layer (type)                Output Shape              Param #   \n",
      "=================================================================\n",
      " dense (Dense)               (None, 4)                 8         \n",
      "                                                                 \n",
      " dense_1 (Dense)             (None, 1)                 5         \n",
      "                                                                 \n",
      "=================================================================\n",
      "Total params: 13 (52.00 Byte)\n",
      "Trainable params: 13 (52.00 Byte)\n",
      "Non-trainable params: 0 (0.00 Byte)\n",
      "_________________________________________________________________\n"
     ]
    }
   ],
   "source": [
    "model.summary()"
   ]
  },
  {
   "cell_type": "markdown",
   "metadata": {},
   "source": [
    "# Compile"
   ]
  },
  {
   "cell_type": "code",
   "execution_count": 12,
   "metadata": {},
   "outputs": [],
   "source": [
    "optimizer = tf.keras.optimizers.SGD(learning_rate=0.01)\n",
    "model.compile(optimizer=optimizer, loss='mean_absolute_error',metrics=['accuracy'])"
   ]
  },
  {
   "cell_type": "code",
   "execution_count": 13,
   "metadata": {},
   "outputs": [
    {
     "data": {
      "text/plain": [
       "24"
      ]
     },
     "execution_count": 13,
     "metadata": {},
     "output_type": "execute_result"
    }
   ],
   "source": [
    "len(X_train)"
   ]
  },
  {
   "cell_type": "markdown",
   "metadata": {},
   "source": [
    "# Tensorboard"
   ]
  },
  {
   "cell_type": "code",
   "execution_count": 14,
   "metadata": {},
   "outputs": [],
   "source": [
    "# log_dir = \"logs/regression_tf/\" + datetime.datetime.now().strftime(\"%Y%m%d-%H%M%S\")\n",
    "log_dir = \"logs/regression_tf/\"\n",
    "tensorboard_callback = tf.keras.callbacks.TensorBoard(log_dir=log_dir, histogram_freq=1)"
   ]
  },
  {
   "cell_type": "code",
   "execution_count": 15,
   "metadata": {},
   "outputs": [
    {
     "name": "stdout",
     "output_type": "stream",
     "text": [
      "Epoch 1/50\n",
      "3/3 [==============================] - 1s 97ms/step - loss: 1.5923 - accuracy: 0.0000e+00 - val_loss: 1.4072 - val_accuracy: 0.0000e+00\n",
      "Epoch 2/50\n",
      "3/3 [==============================] - 0s 22ms/step - loss: 1.5012 - accuracy: 0.0000e+00 - val_loss: 1.3422 - val_accuracy: 0.0000e+00\n",
      "Epoch 3/50\n",
      "3/3 [==============================] - 0s 22ms/step - loss: 1.4130 - accuracy: 0.0000e+00 - val_loss: 1.2785 - val_accuracy: 0.0000e+00\n",
      "Epoch 4/50\n",
      "3/3 [==============================] - 0s 22ms/step - loss: 1.3259 - accuracy: 0.0000e+00 - val_loss: 1.2161 - val_accuracy: 0.0000e+00\n",
      "Epoch 5/50\n",
      "3/3 [==============================] - 0s 22ms/step - loss: 1.2419 - accuracy: 0.0000e+00 - val_loss: 1.1547 - val_accuracy: 0.0000e+00\n",
      "Epoch 6/50\n",
      "3/3 [==============================] - 0s 22ms/step - loss: 1.1606 - accuracy: 0.0000e+00 - val_loss: 1.0941 - val_accuracy: 0.0000e+00\n",
      "Epoch 7/50\n",
      "3/3 [==============================] - 0s 22ms/step - loss: 1.0737 - accuracy: 0.0000e+00 - val_loss: 1.0343 - val_accuracy: 0.0000e+00\n",
      "Epoch 8/50\n",
      "3/3 [==============================] - 0s 21ms/step - loss: 0.9945 - accuracy: 0.0000e+00 - val_loss: 0.9780 - val_accuracy: 0.0000e+00\n",
      "Epoch 9/50\n",
      "3/3 [==============================] - 0s 20ms/step - loss: 0.9269 - accuracy: 0.0000e+00 - val_loss: 0.9220 - val_accuracy: 0.0000e+00\n",
      "Epoch 10/50\n",
      "3/3 [==============================] - 0s 20ms/step - loss: 0.8596 - accuracy: 0.0000e+00 - val_loss: 0.8662 - val_accuracy: 0.0000e+00\n",
      "Epoch 11/50\n",
      "3/3 [==============================] - 0s 20ms/step - loss: 0.7991 - accuracy: 0.0000e+00 - val_loss: 0.8140 - val_accuracy: 0.0000e+00\n",
      "Epoch 12/50\n",
      "3/3 [==============================] - 0s 20ms/step - loss: 0.7444 - accuracy: 0.0000e+00 - val_loss: 0.7636 - val_accuracy: 0.0000e+00\n",
      "Epoch 13/50\n",
      "3/3 [==============================] - 0s 21ms/step - loss: 0.7005 - accuracy: 0.0000e+00 - val_loss: 0.7152 - val_accuracy: 0.0000e+00\n",
      "Epoch 14/50\n",
      "3/3 [==============================] - 0s 21ms/step - loss: 0.6636 - accuracy: 0.0000e+00 - val_loss: 0.6666 - val_accuracy: 0.0000e+00\n",
      "Epoch 15/50\n",
      "3/3 [==============================] - 0s 20ms/step - loss: 0.6272 - accuracy: 0.0000e+00 - val_loss: 0.6285 - val_accuracy: 0.0000e+00\n",
      "Epoch 16/50\n",
      "3/3 [==============================] - 0s 20ms/step - loss: 0.5912 - accuracy: 0.0000e+00 - val_loss: 0.5947 - val_accuracy: 0.0000e+00\n",
      "Epoch 17/50\n",
      "3/3 [==============================] - 0s 20ms/step - loss: 0.5571 - accuracy: 0.0000e+00 - val_loss: 0.5608 - val_accuracy: 0.0000e+00\n",
      "Epoch 18/50\n",
      "3/3 [==============================] - 0s 22ms/step - loss: 0.5262 - accuracy: 0.0000e+00 - val_loss: 0.5266 - val_accuracy: 0.0000e+00\n",
      "Epoch 19/50\n",
      "3/3 [==============================] - 0s 22ms/step - loss: 0.4958 - accuracy: 0.0000e+00 - val_loss: 0.4999 - val_accuracy: 0.0000e+00\n",
      "Epoch 20/50\n",
      "3/3 [==============================] - 0s 21ms/step - loss: 0.4815 - accuracy: 0.0000e+00 - val_loss: 0.4891 - val_accuracy: 0.0000e+00\n",
      "Epoch 21/50\n",
      "3/3 [==============================] - 0s 21ms/step - loss: 0.4805 - accuracy: 0.0000e+00 - val_loss: 0.4782 - val_accuracy: 0.0000e+00\n",
      "Epoch 22/50\n",
      "3/3 [==============================] - 0s 22ms/step - loss: 0.4777 - accuracy: 0.0000e+00 - val_loss: 0.4753 - val_accuracy: 0.0000e+00\n",
      "Epoch 23/50\n",
      "3/3 [==============================] - 0s 22ms/step - loss: 0.4785 - accuracy: 0.0000e+00 - val_loss: 0.4740 - val_accuracy: 0.0000e+00\n",
      "Epoch 24/50\n",
      "3/3 [==============================] - 0s 24ms/step - loss: 0.4774 - accuracy: 0.0000e+00 - val_loss: 0.4727 - val_accuracy: 0.0000e+00\n",
      "Epoch 25/50\n",
      "3/3 [==============================] - 0s 22ms/step - loss: 0.4768 - accuracy: 0.0000e+00 - val_loss: 0.4714 - val_accuracy: 0.0000e+00\n",
      "Epoch 26/50\n",
      "3/3 [==============================] - 0s 22ms/step - loss: 0.4768 - accuracy: 0.0000e+00 - val_loss: 0.4702 - val_accuracy: 0.0000e+00\n",
      "Epoch 27/50\n",
      "3/3 [==============================] - 0s 21ms/step - loss: 0.4782 - accuracy: 0.0000e+00 - val_loss: 0.4689 - val_accuracy: 0.0000e+00\n",
      "Epoch 28/50\n",
      "3/3 [==============================] - 0s 21ms/step - loss: 0.4761 - accuracy: 0.0000e+00 - val_loss: 0.4676 - val_accuracy: 0.0000e+00\n",
      "Epoch 29/50\n",
      "3/3 [==============================] - 0s 21ms/step - loss: 0.4764 - accuracy: 0.0000e+00 - val_loss: 0.4663 - val_accuracy: 0.0000e+00\n",
      "Epoch 30/50\n",
      "3/3 [==============================] - 0s 21ms/step - loss: 0.4770 - accuracy: 0.0000e+00 - val_loss: 0.4650 - val_accuracy: 0.0000e+00\n",
      "Epoch 31/50\n",
      "3/3 [==============================] - 0s 20ms/step - loss: 0.4759 - accuracy: 0.0000e+00 - val_loss: 0.4637 - val_accuracy: 0.0000e+00\n",
      "Epoch 32/50\n",
      "3/3 [==============================] - 0s 22ms/step - loss: 0.4750 - accuracy: 0.0000e+00 - val_loss: 0.4624 - val_accuracy: 0.0000e+00\n",
      "Epoch 33/50\n",
      "3/3 [==============================] - 0s 23ms/step - loss: 0.4783 - accuracy: 0.0000e+00 - val_loss: 0.4611 - val_accuracy: 0.0000e+00\n",
      "Epoch 34/50\n",
      "3/3 [==============================] - 0s 22ms/step - loss: 0.4763 - accuracy: 0.0000e+00 - val_loss: 0.4598 - val_accuracy: 0.0000e+00\n",
      "Epoch 35/50\n",
      "3/3 [==============================] - 0s 21ms/step - loss: 0.4764 - accuracy: 0.0000e+00 - val_loss: 0.4585 - val_accuracy: 0.0000e+00\n",
      "Epoch 36/50\n",
      "3/3 [==============================] - 0s 21ms/step - loss: 0.4746 - accuracy: 0.0000e+00 - val_loss: 0.4573 - val_accuracy: 0.0000e+00\n",
      "Epoch 37/50\n",
      "3/3 [==============================] - 0s 22ms/step - loss: 0.4735 - accuracy: 0.0000e+00 - val_loss: 0.4560 - val_accuracy: 0.0000e+00\n",
      "Epoch 38/50\n",
      "3/3 [==============================] - 0s 22ms/step - loss: 0.4789 - accuracy: 0.0000e+00 - val_loss: 0.4595 - val_accuracy: 0.0000e+00\n",
      "Epoch 39/50\n",
      "3/3 [==============================] - 0s 21ms/step - loss: 0.4748 - accuracy: 0.0000e+00 - val_loss: 0.4630 - val_accuracy: 0.0000e+00\n",
      "Epoch 40/50\n",
      "3/3 [==============================] - 0s 22ms/step - loss: 0.4737 - accuracy: 0.0000e+00 - val_loss: 0.4617 - val_accuracy: 0.0000e+00\n",
      "Epoch 41/50\n",
      "3/3 [==============================] - 0s 21ms/step - loss: 0.4788 - accuracy: 0.0000e+00 - val_loss: 0.4604 - val_accuracy: 0.0000e+00\n",
      "Epoch 42/50\n",
      "3/3 [==============================] - 0s 22ms/step - loss: 0.4753 - accuracy: 0.0000e+00 - val_loss: 0.4592 - val_accuracy: 0.0000e+00\n",
      "Epoch 43/50\n",
      "3/3 [==============================] - 0s 23ms/step - loss: 0.4743 - accuracy: 0.0000e+00 - val_loss: 0.4627 - val_accuracy: 0.0000e+00\n",
      "Epoch 44/50\n",
      "3/3 [==============================] - 0s 21ms/step - loss: 0.4793 - accuracy: 0.0000e+00 - val_loss: 0.4662 - val_accuracy: 0.0000e+00\n",
      "Epoch 45/50\n",
      "3/3 [==============================] - 0s 21ms/step - loss: 0.4745 - accuracy: 0.0000e+00 - val_loss: 0.4649 - val_accuracy: 0.0000e+00\n",
      "Epoch 46/50\n",
      "3/3 [==============================] - 0s 22ms/step - loss: 0.4761 - accuracy: 0.0000e+00 - val_loss: 0.4636 - val_accuracy: 0.0000e+00\n",
      "Epoch 47/50\n",
      "3/3 [==============================] - 0s 23ms/step - loss: 0.4741 - accuracy: 0.0000e+00 - val_loss: 0.4623 - val_accuracy: 0.0000e+00\n",
      "Epoch 48/50\n",
      "3/3 [==============================] - 0s 23ms/step - loss: 0.4757 - accuracy: 0.0000e+00 - val_loss: 0.4610 - val_accuracy: 0.0000e+00\n",
      "Epoch 49/50\n",
      "3/3 [==============================] - 0s 22ms/step - loss: 0.4778 - accuracy: 0.0000e+00 - val_loss: 0.4598 - val_accuracy: 0.0000e+00\n",
      "Epoch 50/50\n",
      "3/3 [==============================] - 0s 23ms/step - loss: 0.4722 - accuracy: 0.0000e+00 - val_loss: 0.4633 - val_accuracy: 0.0000e+00\n"
     ]
    }
   ],
   "source": [
    "# Train the model\n",
    "history = model.fit(X_train, y_train, epochs=50, batch_size=8 , validation_data=(X_test, y_test), callbacks=[tensorboard_callback])"
   ]
  },
  {
   "cell_type": "code",
   "execution_count": 16,
   "metadata": {},
   "outputs": [
    {
     "name": "stdout",
     "output_type": "stream",
     "text": [
      "1/1 [==============================] - 0s 54ms/step\n"
     ]
    }
   ],
   "source": [
    "y_pred = model.predict(X)"
   ]
  },
  {
   "cell_type": "code",
   "execution_count": 17,
   "metadata": {},
   "outputs": [
    {
     "data": {
      "text/plain": [
       "30"
      ]
     },
     "execution_count": 17,
     "metadata": {},
     "output_type": "execute_result"
    }
   ],
   "source": [
    "len(y_pred)"
   ]
  },
  {
   "cell_type": "markdown",
   "metadata": {},
   "source": [
    "# Prediction"
   ]
  },
  {
   "cell_type": "code",
   "execution_count": 18,
   "metadata": {},
   "outputs": [
    {
     "data": {
      "image/png": "[encoded data removed]",
      "text/plain": [
       "<Figure size 1000x600 with 1 Axes>"
      ]
     },
     "metadata": {},
     "output_type": "display_data"
    }
   ],
   "source": [
    "plt.figure(figsize=(10, 6))\n",
    "plt.scatter(X, y, color=\"blue\", label=\"Actual Salary Data\")\n",
    "plt.plot(X, y_pred, color=\"red\", label=\"Predicted Salary (Regression Line)\")\n",
    "plt.xlabel(\"Years of Experience\")\n",
    "plt.ylabel(\"Salary\")\n",
    "plt.title(\"Salary vs. Years of Experience (Linear Regression)\")\n",
    "plt.legend()\n",
    "plt.show()"
   ]
  },
  {
   "cell_type": "markdown",
   "metadata": {},
   "source": [
    "# Get training Weights"
   ]
  },
  {
   "cell_type": "code",
   "execution_count": 19,
   "metadata": {},
   "outputs": [
    {
     "data": {
      "text/plain": [
       "[array([[ 1.2366415 , -0.1901247 ,  0.15238047,  0.8415572 ]],\n",
       "       dtype=float32),\n",
       " array([-0.01736065,  0.00305419,  0.06246882,  0.04476549], dtype=float32)]"
      ]
     },
     "execution_count": 19,
     "metadata": {},
     "output_type": "execute_result"
    }
   ],
   "source": [
    "model.layers[0].get_weights()"
   ]
  },
  {
   "cell_type": "code",
   "execution_count": 33,
   "metadata": {},
   "outputs": [
    {
     "name": "stdout",
     "output_type": "stream",
     "text": [
      "Layer: 1\n",
      "weights: \n",
      "[[ 1.2366415  -0.1901247   0.15238047  0.8415572 ]]\n",
      "biases: \n",
      "[-0.01736065  0.00305419  0.06246882  0.04476549]\n",
      "*****************************************************\n",
      "Layer: 2\n",
      "weights: \n",
      "[[ 0.76462567]\n",
      " [-0.12282795]\n",
      " [-0.7902857 ]\n",
      " [-0.25425294]]\n",
      "biases: \n",
      "[-0.06750002]\n",
      "*****************************************************\n"
     ]
    }
   ],
   "source": [
    "for i, layers in enumerate(model.layers):\n",
    "    print(f\"Layer: {i+1}\")\n",
    "    print(f\"weights: \\n{layers.get_weights()[0]}\") \n",
    "    print(f\"biases: \\n{layers.get_weights()[1]}\")\n",
    "    print(\"*****************************************************\")"
   ]
  },
  {
   "cell_type": "markdown",
   "metadata": {},
   "source": [
    "# Evaluate the model"
   ]
  },
  {
   "cell_type": "code",
   "execution_count": 21,
   "metadata": {},
   "outputs": [
    {
     "name": "stdout",
     "output_type": "stream",
     "text": [
      "1/1 [==============================] - 0s 17ms/step - loss: 0.4633 - accuracy: 0.0000e+00\n",
      "Test Loss: [0.4632861614227295, 0.0]\n"
     ]
    }
   ],
   "source": [
    "\n",
    "loss = model.evaluate(X_test, y_test)\n",
    "print('Test Loss:', loss)"
   ]
  },
  {
   "cell_type": "markdown",
   "metadata": {},
   "source": [
    "# Metrics"
   ]
  },
  {
   "cell_type": "code",
   "execution_count": 22,
   "metadata": {},
   "outputs": [
    {
     "name": "stdout",
     "output_type": "stream",
     "text": [
      "1/1 [==============================] - 0s 21ms/step\n"
     ]
    }
   ],
   "source": [
    "y_pred = model.predict(X_test)"
   ]
  },
  {
   "cell_type": "markdown",
   "metadata": {},
   "source": [
    "# Evaluate"
   ]
  },
  {
   "cell_type": "code",
   "execution_count": 23,
   "metadata": {},
   "outputs": [],
   "source": [
    "from sklearn.metrics import r2_score,mean_absolute_error,mean_squared_error\n",
    "import numpy as np"
   ]
  },
  {
   "cell_type": "code",
   "execution_count": 24,
   "metadata": {},
   "outputs": [
    {
     "name": "stdout",
     "output_type": "stream",
     "text": [
      "The R2 error is : 0.6706163025372964\n"
     ]
    }
   ],
   "source": [
    "r_squared = r2_score(y_test,y_pred)\n",
    "print(\"The R2 error is :\", r_squared)"
   ]
  },
  {
   "cell_type": "code",
   "execution_count": 25,
   "metadata": {},
   "outputs": [
    {
     "data": {
      "text/plain": [
       "0.4632861499080983"
      ]
     },
     "execution_count": 25,
     "metadata": {},
     "output_type": "execute_result"
    }
   ],
   "source": [
    "mean_absolute_error(y_test,y_pred)"
   ]
  },
  {
   "cell_type": "code",
   "execution_count": 26,
   "metadata": {},
   "outputs": [
    {
     "data": {
      "text/plain": [
       "0.3319388529475044"
      ]
     },
     "execution_count": 26,
     "metadata": {},
     "output_type": "execute_result"
    }
   ],
   "source": [
    "mean_squared_error(y_test,y_pred)"
   ]
  },
  {
   "cell_type": "markdown",
   "metadata": {},
   "source": [
    "# Visualize"
   ]
  },
  {
   "cell_type": "code",
   "execution_count": 27,
   "metadata": {},
   "outputs": [],
   "source": [
    "from tensorflow.keras.models import Model"
   ]
  },
  {
   "cell_type": "markdown",
   "metadata": {},
   "source": [
    "# Activation from Each Layer"
   ]
  },
  {
   "cell_type": "code",
   "execution_count": 28,
   "metadata": {},
   "outputs": [],
   "source": [
    "def get_activations(model, layer_name, X):\n",
    "    layer = model.get_layer(name=layer_name)\n",
    "    activation_model = Model(inputs=model.input, outputs=layer.output)\n",
    "    activations = activation_model.predict(X, verbose=False)\n",
    "    print(activations)\n",
    "    return activations\n"
   ]
  },
  {
   "cell_type": "code",
   "execution_count": 29,
   "metadata": {},
   "outputs": [],
   "source": [
    "def plot_activations(layer_name, activations):\n",
    "    print(f\"Layer: {layer_name}\")\n",
    "    print(f\"Activation Shape: {activations.shape}\")\n",
    "\n",
    "    if len(activations.shape) == 2:\n",
    "        # 2D activations (Dense layers)\n",
    "        plt.figure(figsize=(10, 5))\n",
    "        plt.bar(range(activations.shape[1]), activations[0], color='skyblue')\n",
    "        plt.title(f'Activations of {layer_name}')\n",
    "        plt.xlabel('Neurons')\n",
    "        plt.ylabel('Activation')\n",
    "        plt.grid(True)\n",
    "        plt.show()\n",
    "    \n",
    "    elif len(activations.shape) == 3:\n",
    "        # 3D activations (Convolutional layers)\n",
    "        num_channels = activations.shape[-1]\n",
    "        for i in range(num_channels):\n",
    "            plt.figure(figsize=(10, 5))\n",
    "            plt.imshow(activations[0, :, :, i], aspect='auto', cmap='viridis')\n",
    "            plt.colorbar()\n",
    "            plt.title(f'Activations of {layer_name} - Channel {i}')\n",
    "            plt.xlabel('Width')\n",
    "            plt.ylabel('Height')\n",
    "            plt.show()\n",
    "\n",
    "    elif len(activations.shape) == 4:\n",
    "        # 4D activations (Batches of 3D data, e.g., convolutional layers)\n",
    "        num_samples = activations.shape[1]\n",
    "        for i in range(num_samples):\n",
    "            plt.figure(figsize=(10, 5))\n",
    "            plt.imshow(activations[0, i, :, :], aspect='auto', cmap='viridis')\n",
    "            plt.colorbar()\n",
    "            plt.title(f'Activations of {layer_name} - Sample {i}')\n",
    "            plt.xlabel('Width')\n",
    "            plt.ylabel('Height')\n",
    "            plt.show()\n",
    "\n",
    "    else:\n",
    "        print(f\"Activation shape {activations.shape} not supported for visualization\")"
   ]
  },
  {
   "cell_type": "code",
   "execution_count": 30,
   "metadata": {},
   "outputs": [
    {
     "name": "stdout",
     "output_type": "stream",
     "text": [
      "[[ 0.7745091  -0.11869006  0.16004395  0.5836473 ]]\n",
      "Layer: dense\n",
      "Activation Shape: (1, 4)\n"
     ]
    },
    {
     "data": {
      "image/png": "[encoded data removed]",
      "text/plain": [
       "<Figure size 1000x500 with 1 Axes>"
      ]
     },
     "metadata": {},
     "output_type": "display_data"
    },
    {
     "name": "stdout",
     "output_type": "stream",
     "text": [
      "[[0.26441345]]\n",
      "Layer: dense_1\n",
      "Activation Shape: (1, 1)\n"
     ]
    },
    {
     "data": {
      "image/png": "[encoded data removed]",
      "text/plain": [
       "<Figure size 1000x500 with 1 Axes>"
      ]
     },
     "metadata": {},
     "output_type": "display_data"
    }
   ],
   "source": [
    "layer_names = [layer.name for layer in model.layers]\n",
    "\n",
    "X_sample = X_train[23]\n",
    "X_sample = np.expand_dims(X_sample, axis=0)  \n",
    "\n",
    "for layer_name in layer_names:\n",
    "    activations = get_activations(model, layer_name, X_sample)\n",
    "    plot_activations(layer_name, activations)"
   ]
  },
  {
   "cell_type": "code",
   "execution_count": 31,
   "metadata": {},
   "outputs": [
    {
     "name": "stdout",
     "output_type": "stream",
     "text": [
      "[[-0.5994439   0.09254529 -0.00925619 -0.35135284]]\n",
      "Layer: dense\n",
      "Activation Shape: (1, 4)\n"
     ]
    },
    {
     "data": {
      "image/png": "[encoded data removed]",
      "text/plain": [
       "<Figure size 1000x500 with 1 Axes>"
      ]
     },
     "metadata": {},
     "output_type": "display_data"
    },
    {
     "name": "stdout",
     "output_type": "stream",
     "text": [
      "WARNING:tensorflow:5 out of the last 6 calls to <function Model.make_predict_function.<locals>.predict_function at 0x0000021F569C4AF0> triggered tf.function retracing. Tracing is expensive and the excessive number of tracings could be due to (1) creating @tf.function repeatedly in a loop, (2) passing tensors with different shapes, (3) passing Python objects instead of tensors. For (1), please define your @tf.function outside of the loop. For (2), @tf.function has reduce_retracing=True option that can avoid unnecessary retracing. For (3), please refer to https://www.tensorflow.org/guide/function#controlling_retracing and https://www.tensorflow.org/api_docs/python/tf/function for  more details.\n",
      "[[-0.44056985]]\n",
      "Layer: dense_1\n",
      "Activation Shape: (1, 1)\n"
     ]
    },
    {
     "data": {
      "image/png": "[encoded data removed]",
      "text/plain": [
       "<Figure size 1000x500 with 1 Axes>"
      ]
     },
     "metadata": {},
     "output_type": "display_data"
    }
   ],
   "source": [
    "layer_names = [layer.name for layer in model.layers]\n",
    "\n",
    "X_sample = X_train[11]\n",
    "X_sample = np.expand_dims(X_sample, axis=0)  \n",
    "\n",
    "for layer_name in layer_names:\n",
    "    activations = get_activations(model, layer_name, X_sample)\n",
    "    plot_activations(layer_name, activations)"
   ]
  },
  {
   "cell_type": "code",
   "execution_count": null,
   "metadata": {},
   "outputs": [],
   "source": []
  }
 ],
 "metadata": {
  "kernelspec": {
   "display_name": "neelgai",
   "language": "python",
   "name": "python3"
  },
  "language_info": {
   "codemirror_mode": {
    "name": "ipython",
    "version": 3
   },
   "file_extension": ".py",
   "mimetype": "text/x-python",
   "name": "python",
   "nbconvert_exporter": "python",
   "pygments_lexer": "ipython3",
   "version": "3.8.20"
  }
 },
 "nbformat": 4,
 "nbformat_minor": 2
}
